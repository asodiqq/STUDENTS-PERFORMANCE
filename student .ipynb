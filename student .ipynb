{
 "cells": [
  {
   "cell_type": "code",
   "execution_count": 5,
   "id": "d9176576",
   "metadata": {},
   "outputs": [],
   "source": [
    "# import necessary libraries\n",
    "import numpy as np\n",
    "import pandas as pd\n",
    "\n",
    "# for visuals\n",
    "import matplotlib.pyplot as plt\n",
    "import seaborn as sns"
   ]
  },
  {
   "cell_type": "code",
   "execution_count": 6,
   "id": "883a9024",
   "metadata": {},
   "outputs": [
    {
     "data": {
      "text/html": [
       "<div>\n",
       "<style scoped>\n",
       "    .dataframe tbody tr th:only-of-type {\n",
       "        vertical-align: middle;\n",
       "    }\n",
       "\n",
       "    .dataframe tbody tr th {\n",
       "        vertical-align: top;\n",
       "    }\n",
       "\n",
       "    .dataframe thead th {\n",
       "        text-align: right;\n",
       "    }\n",
       "</style>\n",
       "<table border=\"1\" class=\"dataframe\">\n",
       "  <thead>\n",
       "    <tr style=\"text-align: right;\">\n",
       "      <th></th>\n",
       "      <th>Unnamed: 0</th>\n",
       "      <th>Id</th>\n",
       "      <th>Student_Age</th>\n",
       "      <th>Sex</th>\n",
       "      <th>High_School_Type</th>\n",
       "      <th>Scholarship</th>\n",
       "      <th>Additional_Work</th>\n",
       "      <th>Sports_activity</th>\n",
       "      <th>Transportation</th>\n",
       "      <th>Weekly_Study_Hours</th>\n",
       "      <th>Attendance</th>\n",
       "      <th>Reading</th>\n",
       "      <th>Notes</th>\n",
       "      <th>Listening_in_Class</th>\n",
       "      <th>Project_work</th>\n",
       "      <th>Grade</th>\n",
       "    </tr>\n",
       "  </thead>\n",
       "  <tbody>\n",
       "    <tr>\n",
       "      <th>0</th>\n",
       "      <td>0</td>\n",
       "      <td>5001</td>\n",
       "      <td>21</td>\n",
       "      <td>Male</td>\n",
       "      <td>Other</td>\n",
       "      <td>50%</td>\n",
       "      <td>Yes</td>\n",
       "      <td>No</td>\n",
       "      <td>Private</td>\n",
       "      <td>0</td>\n",
       "      <td>Always</td>\n",
       "      <td>Yes</td>\n",
       "      <td>Yes</td>\n",
       "      <td>No</td>\n",
       "      <td>No</td>\n",
       "      <td>AA</td>\n",
       "    </tr>\n",
       "    <tr>\n",
       "      <th>1</th>\n",
       "      <td>1</td>\n",
       "      <td>5002</td>\n",
       "      <td>20</td>\n",
       "      <td>Male</td>\n",
       "      <td>Other</td>\n",
       "      <td>50%</td>\n",
       "      <td>Yes</td>\n",
       "      <td>No</td>\n",
       "      <td>Private</td>\n",
       "      <td>0</td>\n",
       "      <td>Always</td>\n",
       "      <td>Yes</td>\n",
       "      <td>No</td>\n",
       "      <td>Yes</td>\n",
       "      <td>Yes</td>\n",
       "      <td>AA</td>\n",
       "    </tr>\n",
       "    <tr>\n",
       "      <th>2</th>\n",
       "      <td>2</td>\n",
       "      <td>5003</td>\n",
       "      <td>21</td>\n",
       "      <td>Male</td>\n",
       "      <td>State</td>\n",
       "      <td>50%</td>\n",
       "      <td>No</td>\n",
       "      <td>No</td>\n",
       "      <td>Private</td>\n",
       "      <td>2</td>\n",
       "      <td>Never</td>\n",
       "      <td>No</td>\n",
       "      <td>No</td>\n",
       "      <td>No</td>\n",
       "      <td>Yes</td>\n",
       "      <td>AA</td>\n",
       "    </tr>\n",
       "    <tr>\n",
       "      <th>3</th>\n",
       "      <td>3</td>\n",
       "      <td>5004</td>\n",
       "      <td>18</td>\n",
       "      <td>Female</td>\n",
       "      <td>Private</td>\n",
       "      <td>50%</td>\n",
       "      <td>Yes</td>\n",
       "      <td>No</td>\n",
       "      <td>Bus</td>\n",
       "      <td>2</td>\n",
       "      <td>Always</td>\n",
       "      <td>No</td>\n",
       "      <td>Yes</td>\n",
       "      <td>No</td>\n",
       "      <td>No</td>\n",
       "      <td>AA</td>\n",
       "    </tr>\n",
       "    <tr>\n",
       "      <th>4</th>\n",
       "      <td>4</td>\n",
       "      <td>5005</td>\n",
       "      <td>22</td>\n",
       "      <td>Male</td>\n",
       "      <td>Private</td>\n",
       "      <td>50%</td>\n",
       "      <td>No</td>\n",
       "      <td>No</td>\n",
       "      <td>Bus</td>\n",
       "      <td>12</td>\n",
       "      <td>Always</td>\n",
       "      <td>Yes</td>\n",
       "      <td>No</td>\n",
       "      <td>Yes</td>\n",
       "      <td>Yes</td>\n",
       "      <td>AA</td>\n",
       "    </tr>\n",
       "    <tr>\n",
       "      <th>...</th>\n",
       "      <td>...</td>\n",
       "      <td>...</td>\n",
       "      <td>...</td>\n",
       "      <td>...</td>\n",
       "      <td>...</td>\n",
       "      <td>...</td>\n",
       "      <td>...</td>\n",
       "      <td>...</td>\n",
       "      <td>...</td>\n",
       "      <td>...</td>\n",
       "      <td>...</td>\n",
       "      <td>...</td>\n",
       "      <td>...</td>\n",
       "      <td>...</td>\n",
       "      <td>...</td>\n",
       "      <td>...</td>\n",
       "    </tr>\n",
       "    <tr>\n",
       "      <th>140</th>\n",
       "      <td>140</td>\n",
       "      <td>5141</td>\n",
       "      <td>22</td>\n",
       "      <td>Female</td>\n",
       "      <td>State</td>\n",
       "      <td>50%</td>\n",
       "      <td>Yes</td>\n",
       "      <td>Yes</td>\n",
       "      <td>Private</td>\n",
       "      <td>0</td>\n",
       "      <td>Always</td>\n",
       "      <td>No</td>\n",
       "      <td>Yes</td>\n",
       "      <td>No</td>\n",
       "      <td>Yes</td>\n",
       "      <td>CC</td>\n",
       "    </tr>\n",
       "    <tr>\n",
       "      <th>141</th>\n",
       "      <td>141</td>\n",
       "      <td>5142</td>\n",
       "      <td>18</td>\n",
       "      <td>Female</td>\n",
       "      <td>State</td>\n",
       "      <td>75%</td>\n",
       "      <td>No</td>\n",
       "      <td>No</td>\n",
       "      <td>Private</td>\n",
       "      <td>0</td>\n",
       "      <td>Never</td>\n",
       "      <td>No</td>\n",
       "      <td>Yes</td>\n",
       "      <td>Yes</td>\n",
       "      <td>No</td>\n",
       "      <td>CC</td>\n",
       "    </tr>\n",
       "    <tr>\n",
       "      <th>142</th>\n",
       "      <td>142</td>\n",
       "      <td>5143</td>\n",
       "      <td>18</td>\n",
       "      <td>Female</td>\n",
       "      <td>Private</td>\n",
       "      <td>75%</td>\n",
       "      <td>No</td>\n",
       "      <td>No</td>\n",
       "      <td>Private</td>\n",
       "      <td>0</td>\n",
       "      <td>Always</td>\n",
       "      <td>Yes</td>\n",
       "      <td>No</td>\n",
       "      <td>No</td>\n",
       "      <td>No</td>\n",
       "      <td>AA</td>\n",
       "    </tr>\n",
       "    <tr>\n",
       "      <th>143</th>\n",
       "      <td>143</td>\n",
       "      <td>5144</td>\n",
       "      <td>22</td>\n",
       "      <td>Female</td>\n",
       "      <td>State</td>\n",
       "      <td>75%</td>\n",
       "      <td>Yes</td>\n",
       "      <td>Yes</td>\n",
       "      <td>Bus</td>\n",
       "      <td>12</td>\n",
       "      <td>Sometimes</td>\n",
       "      <td>No</td>\n",
       "      <td>Yes</td>\n",
       "      <td>No</td>\n",
       "      <td>Yes</td>\n",
       "      <td>CB</td>\n",
       "    </tr>\n",
       "    <tr>\n",
       "      <th>144</th>\n",
       "      <td>144</td>\n",
       "      <td>5145</td>\n",
       "      <td>18</td>\n",
       "      <td>Female</td>\n",
       "      <td>Private</td>\n",
       "      <td>100%</td>\n",
       "      <td>No</td>\n",
       "      <td>No</td>\n",
       "      <td>Private</td>\n",
       "      <td>12</td>\n",
       "      <td>Always</td>\n",
       "      <td>Yes</td>\n",
       "      <td>No</td>\n",
       "      <td>Yes</td>\n",
       "      <td>No</td>\n",
       "      <td>BB</td>\n",
       "    </tr>\n",
       "  </tbody>\n",
       "</table>\n",
       "<p>145 rows × 16 columns</p>\n",
       "</div>"
      ],
      "text/plain": [
       "     Unnamed: 0    Id  Student_Age     Sex High_School_Type Scholarship  \\\n",
       "0             0  5001           21    Male            Other         50%   \n",
       "1             1  5002           20    Male            Other         50%   \n",
       "2             2  5003           21    Male            State         50%   \n",
       "3             3  5004           18  Female          Private         50%   \n",
       "4             4  5005           22    Male          Private         50%   \n",
       "..          ...   ...          ...     ...              ...         ...   \n",
       "140         140  5141           22  Female            State         50%   \n",
       "141         141  5142           18  Female            State         75%   \n",
       "142         142  5143           18  Female          Private         75%   \n",
       "143         143  5144           22  Female            State         75%   \n",
       "144         144  5145           18  Female          Private        100%   \n",
       "\n",
       "    Additional_Work Sports_activity Transportation  Weekly_Study_Hours  \\\n",
       "0               Yes              No        Private                   0   \n",
       "1               Yes              No        Private                   0   \n",
       "2                No              No        Private                   2   \n",
       "3               Yes              No            Bus                   2   \n",
       "4                No              No            Bus                  12   \n",
       "..              ...             ...            ...                 ...   \n",
       "140             Yes             Yes        Private                   0   \n",
       "141              No              No        Private                   0   \n",
       "142              No              No        Private                   0   \n",
       "143             Yes             Yes            Bus                  12   \n",
       "144              No              No        Private                  12   \n",
       "\n",
       "    Attendance Reading Notes Listening_in_Class Project_work Grade  \n",
       "0       Always     Yes   Yes                 No           No    AA  \n",
       "1       Always     Yes    No                Yes          Yes    AA  \n",
       "2        Never      No    No                 No          Yes    AA  \n",
       "3       Always      No   Yes                 No           No    AA  \n",
       "4       Always     Yes    No                Yes          Yes    AA  \n",
       "..         ...     ...   ...                ...          ...   ...  \n",
       "140     Always      No   Yes                 No          Yes    CC  \n",
       "141      Never      No   Yes                Yes           No    CC  \n",
       "142     Always     Yes    No                 No           No    AA  \n",
       "143  Sometimes      No   Yes                 No          Yes    CB  \n",
       "144     Always     Yes    No                Yes           No    BB  \n",
       "\n",
       "[145 rows x 16 columns]"
      ]
     },
     "execution_count": 6,
     "metadata": {},
     "output_type": "execute_result"
    }
   ],
   "source": [
    "df = pd.read_csv(r\"C:\\Users\\HP\\Downloads\\Student\\student project.csv\", encoding='utf-8') \n",
    "df"
   ]
  },
  {
   "cell_type": "code",
   "execution_count": 7,
   "id": "50bbf012",
   "metadata": {},
   "outputs": [
    {
     "data": {
      "text/plain": [
       "(145, 16)"
      ]
     },
     "execution_count": 7,
     "metadata": {},
     "output_type": "execute_result"
    }
   ],
   "source": [
    "# shape of data\n",
    "df.shape"
   ]
  },
  {
   "cell_type": "code",
   "execution_count": 8,
   "id": "c666fefc",
   "metadata": {},
   "outputs": [
    {
     "name": "stdout",
     "output_type": "stream",
     "text": [
      "<class 'pandas.core.frame.DataFrame'>\n",
      "RangeIndex: 145 entries, 0 to 144\n",
      "Data columns (total 16 columns):\n",
      " #   Column              Non-Null Count  Dtype \n",
      "---  ------              --------------  ----- \n",
      " 0   Unnamed: 0          145 non-null    int64 \n",
      " 1   Id                  145 non-null    int64 \n",
      " 2   Student_Age         145 non-null    int64 \n",
      " 3   Sex                 145 non-null    object\n",
      " 4   High_School_Type    145 non-null    object\n",
      " 5   Scholarship         144 non-null    object\n",
      " 6   Additional_Work     145 non-null    object\n",
      " 7   Sports_activity     145 non-null    object\n",
      " 8   Transportation      145 non-null    object\n",
      " 9   Weekly_Study_Hours  145 non-null    int64 \n",
      " 10  Attendance          145 non-null    object\n",
      " 11  Reading             145 non-null    object\n",
      " 12  Notes               145 non-null    object\n",
      " 13  Listening_in_Class  145 non-null    object\n",
      " 14  Project_work        145 non-null    object\n",
      " 15  Grade               145 non-null    object\n",
      "dtypes: int64(4), object(12)\n",
      "memory usage: 18.3+ KB\n"
     ]
    }
   ],
   "source": [
    "# info of the data\n",
    "df.info()"
   ]
  },
  {
   "cell_type": "code",
   "execution_count": 9,
   "id": "4667cb4b",
   "metadata": {},
   "outputs": [
    {
     "data": {
      "text/plain": [
       "['Unnamed: 0',\n",
       " 'Id',\n",
       " 'Student_Age',\n",
       " 'Sex',\n",
       " 'High_School_Type',\n",
       " 'Scholarship',\n",
       " 'Additional_Work',\n",
       " 'Sports_activity',\n",
       " 'Transportation',\n",
       " 'Weekly_Study_Hours',\n",
       " 'Attendance',\n",
       " 'Reading',\n",
       " 'Notes',\n",
       " 'Listening_in_Class',\n",
       " 'Project_work',\n",
       " 'Grade']"
      ]
     },
     "execution_count": 9,
     "metadata": {},
     "output_type": "execute_result"
    }
   ],
   "source": [
    "# check columns\n",
    "df.columns.tolist()"
   ]
  },
  {
   "cell_type": "code",
   "execution_count": 10,
   "id": "671921f6",
   "metadata": {},
   "outputs": [
    {
     "data": {
      "text/plain": [
       "Unnamed: 0            0\n",
       "Id                    0\n",
       "Student_Age           0\n",
       "Sex                   0\n",
       "High_School_Type      0\n",
       "Scholarship           1\n",
       "Additional_Work       0\n",
       "Sports_activity       0\n",
       "Transportation        0\n",
       "Weekly_Study_Hours    0\n",
       "Attendance            0\n",
       "Reading               0\n",
       "Notes                 0\n",
       "Listening_in_Class    0\n",
       "Project_work          0\n",
       "Grade                 0\n",
       "dtype: int64"
      ]
     },
     "execution_count": 10,
     "metadata": {},
     "output_type": "execute_result"
    }
   ],
   "source": [
    "# checking for missing values\n",
    "df.isnull().sum()"
   ]
  },
  {
   "cell_type": "markdown",
   "id": "9fdf0b53",
   "metadata": {},
   "source": [
    "# Data Cleaning"
   ]
  },
  {
   "cell_type": "code",
   "execution_count": 11,
   "id": "7a98e9e1",
   "metadata": {},
   "outputs": [
    {
     "data": {
      "text/html": [
       "<div>\n",
       "<style scoped>\n",
       "    .dataframe tbody tr th:only-of-type {\n",
       "        vertical-align: middle;\n",
       "    }\n",
       "\n",
       "    .dataframe tbody tr th {\n",
       "        vertical-align: top;\n",
       "    }\n",
       "\n",
       "    .dataframe thead th {\n",
       "        text-align: right;\n",
       "    }\n",
       "</style>\n",
       "<table border=\"1\" class=\"dataframe\">\n",
       "  <thead>\n",
       "    <tr style=\"text-align: right;\">\n",
       "      <th></th>\n",
       "      <th>Unnamed: 0</th>\n",
       "      <th>Student_Id</th>\n",
       "      <th>Student_Age</th>\n",
       "      <th>Gender</th>\n",
       "      <th>High_School_Type</th>\n",
       "      <th>Scholarship</th>\n",
       "      <th>Additional_Work</th>\n",
       "      <th>Sports_activity</th>\n",
       "      <th>Transportation</th>\n",
       "      <th>Weekly_Study_Hours</th>\n",
       "      <th>Attendance</th>\n",
       "      <th>Reading</th>\n",
       "      <th>Notes</th>\n",
       "      <th>Listening_in_Class</th>\n",
       "      <th>Project_work</th>\n",
       "      <th>Grade</th>\n",
       "    </tr>\n",
       "  </thead>\n",
       "  <tbody>\n",
       "    <tr>\n",
       "      <th>0</th>\n",
       "      <td>0</td>\n",
       "      <td>5001</td>\n",
       "      <td>21</td>\n",
       "      <td>Male</td>\n",
       "      <td>Other</td>\n",
       "      <td>0.5</td>\n",
       "      <td>Yes</td>\n",
       "      <td>No</td>\n",
       "      <td>Private</td>\n",
       "      <td>0</td>\n",
       "      <td>Always</td>\n",
       "      <td>Yes</td>\n",
       "      <td>Yes</td>\n",
       "      <td>No</td>\n",
       "      <td>No</td>\n",
       "      <td>AA</td>\n",
       "    </tr>\n",
       "    <tr>\n",
       "      <th>1</th>\n",
       "      <td>1</td>\n",
       "      <td>5002</td>\n",
       "      <td>20</td>\n",
       "      <td>Male</td>\n",
       "      <td>Other</td>\n",
       "      <td>0.5</td>\n",
       "      <td>Yes</td>\n",
       "      <td>No</td>\n",
       "      <td>Private</td>\n",
       "      <td>0</td>\n",
       "      <td>Always</td>\n",
       "      <td>Yes</td>\n",
       "      <td>No</td>\n",
       "      <td>Yes</td>\n",
       "      <td>Yes</td>\n",
       "      <td>AA</td>\n",
       "    </tr>\n",
       "    <tr>\n",
       "      <th>2</th>\n",
       "      <td>2</td>\n",
       "      <td>5003</td>\n",
       "      <td>21</td>\n",
       "      <td>Male</td>\n",
       "      <td>State</td>\n",
       "      <td>0.5</td>\n",
       "      <td>No</td>\n",
       "      <td>No</td>\n",
       "      <td>Private</td>\n",
       "      <td>2</td>\n",
       "      <td>Never</td>\n",
       "      <td>No</td>\n",
       "      <td>No</td>\n",
       "      <td>No</td>\n",
       "      <td>Yes</td>\n",
       "      <td>AA</td>\n",
       "    </tr>\n",
       "    <tr>\n",
       "      <th>3</th>\n",
       "      <td>3</td>\n",
       "      <td>5004</td>\n",
       "      <td>18</td>\n",
       "      <td>Female</td>\n",
       "      <td>Private</td>\n",
       "      <td>0.5</td>\n",
       "      <td>Yes</td>\n",
       "      <td>No</td>\n",
       "      <td>Bus</td>\n",
       "      <td>2</td>\n",
       "      <td>Always</td>\n",
       "      <td>No</td>\n",
       "      <td>Yes</td>\n",
       "      <td>No</td>\n",
       "      <td>No</td>\n",
       "      <td>AA</td>\n",
       "    </tr>\n",
       "    <tr>\n",
       "      <th>4</th>\n",
       "      <td>4</td>\n",
       "      <td>5005</td>\n",
       "      <td>22</td>\n",
       "      <td>Male</td>\n",
       "      <td>Private</td>\n",
       "      <td>0.5</td>\n",
       "      <td>No</td>\n",
       "      <td>No</td>\n",
       "      <td>Bus</td>\n",
       "      <td>12</td>\n",
       "      <td>Always</td>\n",
       "      <td>Yes</td>\n",
       "      <td>No</td>\n",
       "      <td>Yes</td>\n",
       "      <td>Yes</td>\n",
       "      <td>AA</td>\n",
       "    </tr>\n",
       "  </tbody>\n",
       "</table>\n",
       "</div>"
      ],
      "text/plain": [
       "   Unnamed: 0  Student_Id  Student_Age  Gender High_School_Type  Scholarship  \\\n",
       "0           0        5001           21    Male            Other          0.5   \n",
       "1           1        5002           20    Male            Other          0.5   \n",
       "2           2        5003           21    Male            State          0.5   \n",
       "3           3        5004           18  Female          Private          0.5   \n",
       "4           4        5005           22    Male          Private          0.5   \n",
       "\n",
       "  Additional_Work Sports_activity Transportation  Weekly_Study_Hours  \\\n",
       "0             Yes              No        Private                   0   \n",
       "1             Yes              No        Private                   0   \n",
       "2              No              No        Private                   2   \n",
       "3             Yes              No            Bus                   2   \n",
       "4              No              No            Bus                  12   \n",
       "\n",
       "  Attendance Reading Notes Listening_in_Class Project_work Grade  \n",
       "0     Always     Yes   Yes                 No           No    AA  \n",
       "1     Always     Yes    No                Yes          Yes    AA  \n",
       "2      Never      No    No                 No          Yes    AA  \n",
       "3     Always      No   Yes                 No           No    AA  \n",
       "4     Always     Yes    No                Yes          Yes    AA  "
      ]
     },
     "execution_count": 11,
     "metadata": {},
     "output_type": "execute_result"
    }
   ],
   "source": [
    "# Rename 'Id' column to 'Student_Id'\n",
    "df.rename(columns={'Id': 'Student_Id'}, inplace=True)\n",
    "df.rename(columns={'Sex': 'Gender'}, inplace=True)\n",
    "# Convert 'Scholarship' column to float\n",
    "df['Scholarship'] = df['Scholarship'].str.rstrip('%').astype('float') / 100.0\n",
    "\n",
    "# Print the updated DataFrame\n",
    "df.head()\n"
   ]
  },
  {
   "cell_type": "code",
   "execution_count": 12,
   "id": "006f0b1d",
   "metadata": {},
   "outputs": [
    {
     "data": {
      "text/html": [
       "<div>\n",
       "<style scoped>\n",
       "    .dataframe tbody tr th:only-of-type {\n",
       "        vertical-align: middle;\n",
       "    }\n",
       "\n",
       "    .dataframe tbody tr th {\n",
       "        vertical-align: top;\n",
       "    }\n",
       "\n",
       "    .dataframe thead th {\n",
       "        text-align: right;\n",
       "    }\n",
       "</style>\n",
       "<table border=\"1\" class=\"dataframe\">\n",
       "  <thead>\n",
       "    <tr style=\"text-align: right;\">\n",
       "      <th></th>\n",
       "      <th>Unnamed: 0</th>\n",
       "      <th>Student_Id</th>\n",
       "      <th>Student_Age</th>\n",
       "      <th>Gender</th>\n",
       "      <th>High_School_Type</th>\n",
       "      <th>Scholarship</th>\n",
       "      <th>Additional_Work</th>\n",
       "      <th>Sports_activity</th>\n",
       "      <th>Transportation</th>\n",
       "      <th>Weekly_Study_Hours</th>\n",
       "      <th>Attendance</th>\n",
       "      <th>Reading</th>\n",
       "      <th>Notes</th>\n",
       "      <th>Listening_in_Class</th>\n",
       "      <th>Project_work</th>\n",
       "      <th>Grade</th>\n",
       "    </tr>\n",
       "  </thead>\n",
       "  <tbody>\n",
       "    <tr>\n",
       "      <th>140</th>\n",
       "      <td>140</td>\n",
       "      <td>5141</td>\n",
       "      <td>22</td>\n",
       "      <td>Female</td>\n",
       "      <td>State</td>\n",
       "      <td>0.50</td>\n",
       "      <td>Yes</td>\n",
       "      <td>Yes</td>\n",
       "      <td>Private</td>\n",
       "      <td>0</td>\n",
       "      <td>Always</td>\n",
       "      <td>No</td>\n",
       "      <td>Yes</td>\n",
       "      <td>No</td>\n",
       "      <td>Yes</td>\n",
       "      <td>CC</td>\n",
       "    </tr>\n",
       "    <tr>\n",
       "      <th>141</th>\n",
       "      <td>141</td>\n",
       "      <td>5142</td>\n",
       "      <td>18</td>\n",
       "      <td>Female</td>\n",
       "      <td>State</td>\n",
       "      <td>0.75</td>\n",
       "      <td>No</td>\n",
       "      <td>No</td>\n",
       "      <td>Private</td>\n",
       "      <td>0</td>\n",
       "      <td>Never</td>\n",
       "      <td>No</td>\n",
       "      <td>Yes</td>\n",
       "      <td>Yes</td>\n",
       "      <td>No</td>\n",
       "      <td>CC</td>\n",
       "    </tr>\n",
       "    <tr>\n",
       "      <th>142</th>\n",
       "      <td>142</td>\n",
       "      <td>5143</td>\n",
       "      <td>18</td>\n",
       "      <td>Female</td>\n",
       "      <td>Private</td>\n",
       "      <td>0.75</td>\n",
       "      <td>No</td>\n",
       "      <td>No</td>\n",
       "      <td>Private</td>\n",
       "      <td>0</td>\n",
       "      <td>Always</td>\n",
       "      <td>Yes</td>\n",
       "      <td>No</td>\n",
       "      <td>No</td>\n",
       "      <td>No</td>\n",
       "      <td>AA</td>\n",
       "    </tr>\n",
       "    <tr>\n",
       "      <th>143</th>\n",
       "      <td>143</td>\n",
       "      <td>5144</td>\n",
       "      <td>22</td>\n",
       "      <td>Female</td>\n",
       "      <td>State</td>\n",
       "      <td>0.75</td>\n",
       "      <td>Yes</td>\n",
       "      <td>Yes</td>\n",
       "      <td>Bus</td>\n",
       "      <td>12</td>\n",
       "      <td>Sometimes</td>\n",
       "      <td>No</td>\n",
       "      <td>Yes</td>\n",
       "      <td>No</td>\n",
       "      <td>Yes</td>\n",
       "      <td>CB</td>\n",
       "    </tr>\n",
       "    <tr>\n",
       "      <th>144</th>\n",
       "      <td>144</td>\n",
       "      <td>5145</td>\n",
       "      <td>18</td>\n",
       "      <td>Female</td>\n",
       "      <td>Private</td>\n",
       "      <td>1.00</td>\n",
       "      <td>No</td>\n",
       "      <td>No</td>\n",
       "      <td>Private</td>\n",
       "      <td>12</td>\n",
       "      <td>Always</td>\n",
       "      <td>Yes</td>\n",
       "      <td>No</td>\n",
       "      <td>Yes</td>\n",
       "      <td>No</td>\n",
       "      <td>BB</td>\n",
       "    </tr>\n",
       "  </tbody>\n",
       "</table>\n",
       "</div>"
      ],
      "text/plain": [
       "     Unnamed: 0  Student_Id  Student_Age  Gender High_School_Type  \\\n",
       "140         140        5141           22  Female            State   \n",
       "141         141        5142           18  Female            State   \n",
       "142         142        5143           18  Female          Private   \n",
       "143         143        5144           22  Female            State   \n",
       "144         144        5145           18  Female          Private   \n",
       "\n",
       "     Scholarship Additional_Work Sports_activity Transportation  \\\n",
       "140         0.50             Yes             Yes        Private   \n",
       "141         0.75              No              No        Private   \n",
       "142         0.75              No              No        Private   \n",
       "143         0.75             Yes             Yes            Bus   \n",
       "144         1.00              No              No        Private   \n",
       "\n",
       "     Weekly_Study_Hours Attendance Reading Notes Listening_in_Class  \\\n",
       "140                   0     Always      No   Yes                 No   \n",
       "141                   0      Never      No   Yes                Yes   \n",
       "142                   0     Always     Yes    No                 No   \n",
       "143                  12  Sometimes      No   Yes                 No   \n",
       "144                  12     Always     Yes    No                Yes   \n",
       "\n",
       "    Project_work Grade  \n",
       "140          Yes    CC  \n",
       "141           No    CC  \n",
       "142           No    AA  \n",
       "143          Yes    CB  \n",
       "144           No    BB  "
      ]
     },
     "execution_count": 12,
     "metadata": {},
     "output_type": "execute_result"
    }
   ],
   "source": [
    "df.tail()"
   ]
  },
  {
   "cell_type": "code",
   "execution_count": 13,
   "id": "5be13443",
   "metadata": {},
   "outputs": [
    {
     "data": {
      "text/plain": [
       "Unnamed: 0              int64\n",
       "Student_Id              int64\n",
       "Student_Age             int64\n",
       "Gender                 object\n",
       "High_School_Type       object\n",
       "Scholarship           float64\n",
       "Additional_Work        object\n",
       "Sports_activity        object\n",
       "Transportation         object\n",
       "Weekly_Study_Hours      int64\n",
       "Attendance             object\n",
       "Reading                object\n",
       "Notes                  object\n",
       "Listening_in_Class     object\n",
       "Project_work           object\n",
       "Grade                  object\n",
       "dtype: object"
      ]
     },
     "execution_count": 13,
     "metadata": {},
     "output_type": "execute_result"
    }
   ],
   "source": [
    "# confirm data types\n",
    "df.dtypes"
   ]
  },
  {
   "cell_type": "code",
   "execution_count": 14,
   "id": "e0e9f9f4",
   "metadata": {},
   "outputs": [
    {
     "data": {
      "text/plain": [
       "Unnamed: 0            0\n",
       "Student_Id            0\n",
       "Student_Age           0\n",
       "Gender                0\n",
       "High_School_Type      0\n",
       "Scholarship           1\n",
       "Additional_Work       0\n",
       "Sports_activity       0\n",
       "Transportation        0\n",
       "Weekly_Study_Hours    0\n",
       "Attendance            0\n",
       "Reading               0\n",
       "Notes                 0\n",
       "Listening_in_Class    0\n",
       "Project_work          0\n",
       "Grade                 0\n",
       "dtype: int64"
      ]
     },
     "execution_count": 14,
     "metadata": {},
     "output_type": "execute_result"
    }
   ],
   "source": [
    "# confirm if there are still missing values\n",
    "df.isnull().sum()"
   ]
  },
  {
   "cell_type": "code",
   "execution_count": 15,
   "id": "c574396f",
   "metadata": {},
   "outputs": [
    {
     "name": "stdout",
     "output_type": "stream",
     "text": [
      "Number of males: 87\n"
     ]
    }
   ],
   "source": [
    "male_count = df[df['Gender'] == 'Male'].shape[0]\n",
    "print(\"Number of males:\", male_count)\n"
   ]
  },
  {
   "cell_type": "code",
   "execution_count": 16,
   "id": "690c1798",
   "metadata": {},
   "outputs": [
    {
     "name": "stdout",
     "output_type": "stream",
     "text": [
      "Number of females: 58\n"
     ]
    }
   ],
   "source": [
    "female_count = df[df['Gender'] == 'Female'].shape[0]\n",
    "print(\"Number of females:\", female_count)\n"
   ]
  },
  {
   "cell_type": "code",
   "execution_count": 17,
   "id": "b0440ee5",
   "metadata": {},
   "outputs": [
    {
     "name": "stdout",
     "output_type": "stream",
     "text": [
      "Number of student IDs: 145\n"
     ]
    }
   ],
   "source": [
    "student_id_count = df['Student_Id'].count()\n",
    "print(\"Number of student IDs:\", student_id_count)\n"
   ]
  },
  {
   "cell_type": "markdown",
   "id": "756ab7ae",
   "metadata": {},
   "source": [
    "### statistical summary of the data"
   ]
  },
  {
   "cell_type": "code",
   "execution_count": 18,
   "id": "6a5f2130",
   "metadata": {},
   "outputs": [
    {
     "data": {
      "text/html": [
       "<div>\n",
       "<style scoped>\n",
       "    .dataframe tbody tr th:only-of-type {\n",
       "        vertical-align: middle;\n",
       "    }\n",
       "\n",
       "    .dataframe tbody tr th {\n",
       "        vertical-align: top;\n",
       "    }\n",
       "\n",
       "    .dataframe thead th {\n",
       "        text-align: right;\n",
       "    }\n",
       "</style>\n",
       "<table border=\"1\" class=\"dataframe\">\n",
       "  <thead>\n",
       "    <tr style=\"text-align: right;\">\n",
       "      <th></th>\n",
       "      <th>Unnamed: 0</th>\n",
       "      <th>Student_Id</th>\n",
       "      <th>Student_Age</th>\n",
       "      <th>Scholarship</th>\n",
       "      <th>Weekly_Study_Hours</th>\n",
       "    </tr>\n",
       "  </thead>\n",
       "  <tbody>\n",
       "    <tr>\n",
       "      <th>count</th>\n",
       "      <td>145.000000</td>\n",
       "      <td>145.000000</td>\n",
       "      <td>145.000000</td>\n",
       "      <td>144.000000</td>\n",
       "      <td>145.000000</td>\n",
       "    </tr>\n",
       "    <tr>\n",
       "      <th>mean</th>\n",
       "      <td>72.000000</td>\n",
       "      <td>5073.000000</td>\n",
       "      <td>19.682759</td>\n",
       "      <td>0.647569</td>\n",
       "      <td>2.331034</td>\n",
       "    </tr>\n",
       "    <tr>\n",
       "      <th>std</th>\n",
       "      <td>42.001984</td>\n",
       "      <td>42.001984</td>\n",
       "      <td>1.992010</td>\n",
       "      <td>0.194804</td>\n",
       "      <td>4.249273</td>\n",
       "    </tr>\n",
       "    <tr>\n",
       "      <th>min</th>\n",
       "      <td>0.000000</td>\n",
       "      <td>5001.000000</td>\n",
       "      <td>18.000000</td>\n",
       "      <td>0.250000</td>\n",
       "      <td>0.000000</td>\n",
       "    </tr>\n",
       "    <tr>\n",
       "      <th>25%</th>\n",
       "      <td>36.000000</td>\n",
       "      <td>5037.000000</td>\n",
       "      <td>18.000000</td>\n",
       "      <td>0.500000</td>\n",
       "      <td>0.000000</td>\n",
       "    </tr>\n",
       "    <tr>\n",
       "      <th>50%</th>\n",
       "      <td>72.000000</td>\n",
       "      <td>5073.000000</td>\n",
       "      <td>19.000000</td>\n",
       "      <td>0.500000</td>\n",
       "      <td>0.000000</td>\n",
       "    </tr>\n",
       "    <tr>\n",
       "      <th>75%</th>\n",
       "      <td>108.000000</td>\n",
       "      <td>5109.000000</td>\n",
       "      <td>21.000000</td>\n",
       "      <td>0.750000</td>\n",
       "      <td>2.000000</td>\n",
       "    </tr>\n",
       "    <tr>\n",
       "      <th>max</th>\n",
       "      <td>144.000000</td>\n",
       "      <td>5145.000000</td>\n",
       "      <td>26.000000</td>\n",
       "      <td>1.000000</td>\n",
       "      <td>12.000000</td>\n",
       "    </tr>\n",
       "  </tbody>\n",
       "</table>\n",
       "</div>"
      ],
      "text/plain": [
       "       Unnamed: 0   Student_Id  Student_Age  Scholarship  Weekly_Study_Hours\n",
       "count  145.000000   145.000000   145.000000   144.000000          145.000000\n",
       "mean    72.000000  5073.000000    19.682759     0.647569            2.331034\n",
       "std     42.001984    42.001984     1.992010     0.194804            4.249273\n",
       "min      0.000000  5001.000000    18.000000     0.250000            0.000000\n",
       "25%     36.000000  5037.000000    18.000000     0.500000            0.000000\n",
       "50%     72.000000  5073.000000    19.000000     0.500000            0.000000\n",
       "75%    108.000000  5109.000000    21.000000     0.750000            2.000000\n",
       "max    144.000000  5145.000000    26.000000     1.000000           12.000000"
      ]
     },
     "execution_count": 18,
     "metadata": {},
     "output_type": "execute_result"
    }
   ],
   "source": [
    "# statistical summary of the data\n",
    "df.describe()"
   ]
  },
  {
   "cell_type": "markdown",
   "id": "4ad09b1e",
   "metadata": {},
   "source": [
    " The total number of students for each variable is 145.The mean value for Student_Age,Scholarship and Weekly_Study_Hours is 19.6,   0.64,   2.33 respectively. And The maximum value of Student_Age,Scholarship and Weekly_Study_Hours is 26,   1.0,  12.0 respectively.The Minimum value of Student_Age,Scholarship and Weekly_Study_Hours is 18,  0.2,   0.0 respectively."
   ]
  },
  {
   "cell_type": "code",
   "execution_count": 19,
   "id": "0aab58da",
   "metadata": {},
   "outputs": [
    {
     "data": {
      "text/plain": [
       "Index(['Unnamed: 0', 'Student_Id', 'Student_Age', 'Gender', 'High_School_Type',\n",
       "       'Scholarship', 'Additional_Work', 'Sports_activity', 'Transportation',\n",
       "       'Weekly_Study_Hours', 'Attendance', 'Reading', 'Notes',\n",
       "       'Listening_in_Class', 'Project_work', 'Grade'],\n",
       "      dtype='object')"
      ]
     },
     "execution_count": 19,
     "metadata": {},
     "output_type": "execute_result"
    }
   ],
   "source": [
    "df.columns"
   ]
  },
  {
   "cell_type": "code",
   "execution_count": null,
   "id": "004ddcae",
   "metadata": {},
   "outputs": [],
   "source": []
  },
  {
   "cell_type": "markdown",
   "id": "bebb8eeb",
   "metadata": {},
   "source": [
    "## 1. Number of students by gender"
   ]
  },
  {
   "cell_type": "code",
   "execution_count": 20,
   "id": "6c193ea8",
   "metadata": {},
   "outputs": [
    {
     "name": "stdout",
     "output_type": "stream",
     "text": [
      "Number of students by gender:\n",
      "Gender\n",
      "Male      87\n",
      "Female    58\n",
      "Name: count, dtype: int64\n"
     ]
    }
   ],
   "source": [
    "student_count_by_gender = df['Gender'].value_counts()\n",
    "print(\"Number of students by gender:\")\n",
    "print(student_count_by_gender)\n"
   ]
  },
  {
   "cell_type": "code",
   "execution_count": 34,
   "id": "8a11735f",
   "metadata": {},
   "outputs": [
    {
     "data": {
      "image/png": "[encoded data removed]",
      "text/plain": [
       "<Figure size 700x600 with 1 Axes>"
      ]
     },
     "metadata": {},
     "output_type": "display_data"
    }
   ],
   "source": [
    "import matplotlib.pyplot as plt\n",
    "\n",
    "# Group the data by gender and count the number of student IDs\n",
    "gender_counts = df['Gender'].value_counts()\n",
    "\n",
    "# Create a larger figure\n",
    "plt.figure(figsize=(7, 6))\n",
    "\n",
    "# Create a bar charthttp://localhost:8888/notebooks/student%20.ipynb#\n",
    "plt.bar(gender_counts.index, gender_counts.values)\n",
    "\n",
    "# Add labels and title\n",
    "plt.xlabel('Gender')\n",
    "plt.ylabel('Count')\n",
    "plt.title('Number of Student IDs by Gender')\n",
    "\n",
    "# Show the chart\n",
    "plt.show()\n"
   ]
  },
  {
   "cell_type": "markdown",
   "id": "e0f31cee",
   "metadata": {},
   "source": [
    " Out of 145 students we discovered that base on gender, male students are 87 in number while female students are 58 in number this shows that male students are more than female students. "
   ]
  },
  {
   "cell_type": "markdown",
   "id": "cd396b75",
   "metadata": {},
   "source": [
    "## 2. Number of students by High_School_Type"
   ]
  },
  {
   "cell_type": "code",
   "execution_count": 22,
   "id": "cb49cbbc",
   "metadata": {},
   "outputs": [
    {
     "name": "stdout",
     "output_type": "stream",
     "text": [
      "Number of students by high school type:\n",
      "High_School_Type\n",
      "State      103\n",
      "Private     25\n",
      "Other       17\n",
      "Name: count, dtype: int64\n"
     ]
    },
    {
     "data": {
      "text/plain": [
       "''"
      ]
     },
     "execution_count": 22,
     "metadata": {},
     "output_type": "execute_result"
    }
   ],
   "source": [
    "student_count_by_hs_type = df['High_School_Type'].value_counts()\n",
    "print(\"Number of students by high school type:\")\n",
    "print(student_count_by_hs_type)\n",
    "\"\""
   ]
  },
  {
   "cell_type": "code",
   "execution_count": 23,
   "id": "a77f1bac",
   "metadata": {},
   "outputs": [
    {
     "data": {
      "image/png": "[encoded data removed]",
      "text/plain": [
       "<Figure size 640x480 with 1 Axes>"
      ]
     },
     "metadata": {},
     "output_type": "display_data"
    }
   ],
   "source": [
    "# Group the data by high school type and count the number of student IDs\n",
    "hs_type_counts = df.groupby('High_School_Type')['Student_Id'].count()\n",
    "\n",
    "# Plot the bar chart\n",
    "hs_type_counts.plot(kind='bar')\n",
    "\n",
    "# Add labels and title\n",
    "plt.xlabel('High School Type')\n",
    "plt.ylabel('Number of Student IDs')\n",
    "plt.title('Student IDs by High School Type')\n",
    "\n",
    "# Show the plot\n",
    "plt.show()\n"
   ]
  },
  {
   "cell_type": "markdown",
   "id": "d8611a91",
   "metadata": {},
   "source": [
    "Out of 145 students, we discovered that 103 students are schooling in State,25 students are schooling \n",
    "in Private and 17 students schooling in order. This shows that majority of students are schooling in State."
   ]
  },
  {
   "cell_type": "markdown",
   "id": "58af6aef",
   "metadata": {},
   "source": [
    "## 3. Average number of students that received Scholarship"
   ]
  },
  {
   "cell_type": "code",
   "execution_count": 24,
   "id": "b7672c29",
   "metadata": {},
   "outputs": [
    {
     "name": "stdout",
     "output_type": "stream",
     "text": [
      "Number of students receiving a scholarship: 144\n"
     ]
    }
   ],
   "source": [
    "scholarship_count = len(df[df['Scholarship'] > 0])\n",
    "print(\"Number of students receiving a scholarship:\", scholarship_count)\n"
   ]
  },
  {
   "cell_type": "code",
   "execution_count": 25,
   "id": "bbd0f454",
   "metadata": {},
   "outputs": [
    {
     "name": "stdout",
     "output_type": "stream",
     "text": [
      "Average scholarship: 0.6475694444444444\n"
     ]
    }
   ],
   "source": [
    "average_scholarship = df['Scholarship'].mean()\n",
    "print(\"Average scholarship:\", average_scholarship)\n"
   ]
  },
  {
   "cell_type": "code",
   "execution_count": 26,
   "id": "8e4a6169",
   "metadata": {},
   "outputs": [
    {
     "name": "stdout",
     "output_type": "stream",
     "text": [
      "Number of males receiving scholarship: 53.0\n",
      "Number of females receiving scholarship: 40.25\n"
     ]
    }
   ],
   "source": [
    "male_scholarship_count = df[df['Gender'] == 'Male']['Scholarship'].sum()\n",
    "female_scholarship_count = df[df['Gender'] == 'Female']['Scholarship'].sum()\n",
    "\n",
    "print(\"Number of males receiving scholarship:\", male_scholarship_count)\n",
    "print(\"Number of females receiving scholarship:\", female_scholarship_count)\n"
   ]
  },
  {
   "cell_type": "code",
   "execution_count": 27,
   "id": "7674028c",
   "metadata": {},
   "outputs": [
    {
     "data": {
      "image/png": "[encoded data removed]",
      "text/plain": [
       "<Figure size 640x480 with 1 Axes>"
      ]
     },
     "metadata": {},
     "output_type": "display_data"
    }
   ],
   "source": [
    "import matplotlib.pyplot as plt\n",
    "\n",
    "# Grouping the data by student ID and calculating the mean scholarship\n",
    "scholarship_by_student = df.groupby('Student_Id')['Scholarship'].mean()\n",
    "\n",
    "# Plotting the bar chart\n",
    "plt.bar(scholarship_by_student.index, scholarship_by_student.values)\n",
    "plt.xlabel('Student ID')\n",
    "plt.ylabel('Scholarship')\n",
    "plt.title('Average Scholarship by Student ID')\n",
    "plt.show()\n"
   ]
  },
  {
   "cell_type": "markdown",
   "id": "cb24ec1e",
   "metadata": {},
   "source": [
    "Out of 145 students, 144 students was given scholarship,and only 1 student did receiving scholarship,\n",
    "total number of males receiving scholarship is 53.0 and Number of females receiving scholarship is 40.25,and \n",
    "Average scholarship receiving by students is 0.6475 respectively."
   ]
  },
  {
   "cell_type": "markdown",
   "id": "b5aadc41",
   "metadata": {},
   "source": [
    "## 4.Number of students by grade"
   ]
  },
  {
   "cell_type": "code",
   "execution_count": 28,
   "id": "b34e240d",
   "metadata": {},
   "outputs": [
    {
     "name": "stdout",
     "output_type": "stream",
     "text": [
      "Number of students by grade:\n",
      "Grade\n",
      "AA      35\n",
      "BA      24\n",
      "BB      21\n",
      "CC      17\n",
      "DD      17\n",
      "DC      13\n",
      "CB      10\n",
      "Fail     8\n",
      "Name: count, dtype: int64\n"
     ]
    }
   ],
   "source": [
    "grade_counts = df['Grade'].value_counts()\n",
    "print(\"Number of students by grade:\")\n",
    "print(grade_counts)\n",
    "\n"
   ]
  },
  {
   "cell_type": "code",
   "execution_count": 29,
   "id": "3c84cd14",
   "metadata": {},
   "outputs": [
    {
     "name": "stdout",
     "output_type": "stream",
     "text": [
      "Number of students by gender and grade:\n",
      "Gender  Grade\n",
      "Female  AA       16\n",
      "        BA       12\n",
      "        BB        7\n",
      "        CB        5\n",
      "        CC        6\n",
      "        DC        4\n",
      "        Fail      8\n",
      "Male    AA       19\n",
      "        BA       12\n",
      "        BB       14\n",
      "        CB        5\n",
      "        CC       11\n",
      "        DC        9\n",
      "        DD       17\n",
      "dtype: int64\n"
     ]
    }
   ],
   "source": [
    "gender_grade_counts = df.groupby(['Gender', 'Grade']).size()\n",
    "print(\"Number of students by gender and grade:\")\n",
    "print(gender_grade_counts)\n"
   ]
  },
  {
   "cell_type": "code",
   "execution_count": 30,
   "id": "a86b3d98",
   "metadata": {},
   "outputs": [
    {
     "data": {
      "image/png": "[encoded data removed]",
      "text/plain": [
       "<Figure size 640x480 with 1 Axes>"
      ]
     },
     "metadata": {},
     "output_type": "display_data"
    }
   ],
   "source": [
    "gender_grade_counts = df.groupby(['Gender', 'Grade']).size()\n",
    "gender_grade_counts.plot(kind='bar')\n",
    "\n",
    "plt.xlabel('Gender and Grade')\n",
    "plt.ylabel('Number of Students')\n",
    "plt.title('Number of Students by Gender and Grade')\n",
    "\n",
    "plt.show()\n"
   ]
  },
  {
   "cell_type": "markdown",
   "id": "db3e153d",
   "metadata": {},
   "source": [
    "Base on the Female students grade, \n",
    "        AA       16\n",
    "        BA       12\n",
    "        BB        7\n",
    "        CB        5\n",
    "        CC        6\n",
    "        DC        4\n",
    "        Fail      8,\n",
    "and Base on the Male students grade,       \n",
    "        AA       19\n",
    "        BA       12\n",
    "        BB       14\n",
    "        CB        5\n",
    "        CC       11\n",
    "        DC        9\n",
    "        DD       17\n",
    "        \n",
    "From the analysis, we discovered that 16 Female students have AA,and 8 Fail, \n",
    "while 19 Male students have AA but dont have Fail respectively."
   ]
  },
  {
   "cell_type": "markdown",
   "id": "c01b3150",
   "metadata": {},
   "source": [
    "# Recommendation"
   ]
  },
  {
   "cell_type": "markdown",
   "id": "07c404de",
   "metadata": {},
   "source": [
    "1.Student may feel very disappointed when they witness their grades falling lower than expected. However, what is a must in situations like these is to keep a positive mental headspace to improve the situation. Students must acknowledge the fact that it is only them who can better their grades by keeping a positive outlook. They must kick out the negativity from their minds and focus on the positive sides. "
   ]
  },
  {
   "cell_type": "markdown",
   "id": "343e0db9",
   "metadata": {},
   "source": [
    "2.When students do not perform well academically, it is often because they haven’t found a learning style that suits them correctly. Every student adapts a different mode of learning that suits their style and yields the best possible results academically. So, to improve academic performance, students must also know that finding a suitable learning style for them is of utmost importance."
   ]
  },
  {
   "cell_type": "markdown",
   "id": "85298d4b",
   "metadata": {},
   "source": [
    "3.For most students remembering all they have learned is also an issue. This significantly brings their grades down. With so many facts to remember, it is a task for students to mug up everything. Hence, to improve their academic performance, students must also work on their memory skills to facilitate better learning and grades."
   ]
  },
  {
   "cell_type": "markdown",
   "id": "f2df2f2b",
   "metadata": {},
   "source": [
    "4.Often the reason why students don’t score well in their exams is that they don’t allocate enough time for revision. Students often overlook the importance of revision but it must be clarified here that revision holds huge importance during exams. While revising, students get to know more about areas they need to focus on that would help them in achieving better grades and give them a confidence boost. So once the final preparation is done students must allocate proper time for revision and thoroughly go through topics that need more attention. This essentially helps in improving academic grades."
   ]
  },
  {
   "cell_type": "markdown",
   "id": "bc146e60",
   "metadata": {},
   "source": [
    "5.One of the most important strategies to improve academic performance is to pay good attention in class. Often students zone out during class, students must work on their concentration skills and try to pay as much attention as they can in class. They must ask questions in case of doubts to make sure the topic is clear in their head as it is much easier to ask a teacher to explain something different than it is to trawl through books trying to find a clearer explanation for yourself. "
   ]
  },
  {
   "cell_type": "code",
   "execution_count": null,
   "id": "5dd32a87",
   "metadata": {},
   "outputs": [],
   "source": []
  }
 ],
 "metadata": {
  "kernelspec": {
   "display_name": "Python 3 (ipykernel)",
   "language": "python",
   "name": "python3"
  },
  "language_info": {
   "codemirror_mode": {
    "name": "ipython",
    "version": 3
   },
   "file_extension": ".py",
   "mimetype": "text/x-python",
   "name": "python",
   "nbconvert_exporter": "python",
   "pygments_lexer": "ipython3",
   "version": "3.11.5"
  }
 },
 "nbformat": 4,
 "nbformat_minor": 5
}
